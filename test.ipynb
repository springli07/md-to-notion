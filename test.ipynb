{
 "cells": [
  {
   "cell_type": "code",
   "execution_count": null,
   "metadata": {},
   "outputs": [],
   "source": [
    "    def is_balanced(s):\n",
    "        single_dollar_count = s.count('$')\n",
    "        double_dollar_count = s.count('$$')\n",
    "\n",
    "        return single_dollar_count % 2 == 0 and double_dollar_count % 2 == 0"
   ]
  }
 ],
 "metadata": {
  "language_info": {
   "name": "python"
  }
 },
 "nbformat": 4,
 "nbformat_minor": 2
}
